{
 "cells": [
  {
   "cell_type": "code",
   "execution_count": 44,
   "metadata": {},
   "outputs": [
    {
     "data": {
      "text/html": [
       "<div>\n",
       "<style scoped>\n",
       "    .dataframe tbody tr th:only-of-type {\n",
       "        vertical-align: middle;\n",
       "    }\n",
       "\n",
       "    .dataframe tbody tr th {\n",
       "        vertical-align: top;\n",
       "    }\n",
       "\n",
       "    .dataframe thead th {\n",
       "        text-align: right;\n",
       "    }\n",
       "</style>\n",
       "<table border=\"1\" class=\"dataframe\">\n",
       "  <thead>\n",
       "    <tr style=\"text-align: right;\">\n",
       "      <th></th>\n",
       "      <th>image_id</th>\n",
       "      <th>dx</th>\n",
       "    </tr>\n",
       "  </thead>\n",
       "  <tbody>\n",
       "    <tr>\n",
       "      <th>0</th>\n",
       "      <td>ISIC_0027419</td>\n",
       "      <td>bkl</td>\n",
       "    </tr>\n",
       "    <tr>\n",
       "      <th>1</th>\n",
       "      <td>ISIC_0025030</td>\n",
       "      <td>bkl</td>\n",
       "    </tr>\n",
       "    <tr>\n",
       "      <th>2</th>\n",
       "      <td>ISIC_0026769</td>\n",
       "      <td>bkl</td>\n",
       "    </tr>\n",
       "    <tr>\n",
       "      <th>3</th>\n",
       "      <td>ISIC_0025661</td>\n",
       "      <td>bkl</td>\n",
       "    </tr>\n",
       "    <tr>\n",
       "      <th>4</th>\n",
       "      <td>ISIC_0031633</td>\n",
       "      <td>bkl</td>\n",
       "    </tr>\n",
       "  </tbody>\n",
       "</table>\n",
       "</div>"
      ],
      "text/plain": [
       "       image_id   dx\n",
       "0  ISIC_0027419  bkl\n",
       "1  ISIC_0025030  bkl\n",
       "2  ISIC_0026769  bkl\n",
       "3  ISIC_0025661  bkl\n",
       "4  ISIC_0031633  bkl"
      ]
     },
     "execution_count": 44,
     "metadata": {},
     "output_type": "execute_result"
    }
   ],
   "source": [
    "import pandas as pd\n",
    "import os\n",
    "\n",
    "\n",
    "sc=pd.read_csv(\"metadata.csv\")\n",
    "sc.head()"
   ]
  },
  {
   "cell_type": "code",
   "execution_count": 45,
   "metadata": {},
   "outputs": [
    {
     "name": "stdout",
     "output_type": "stream",
     "text": [
      "1099\n",
      "6705\n",
      "1113\n",
      "514\n",
      "327\n",
      "142\n",
      "115\n"
     ]
    }
   ],
   "source": [
    "bkll = sc[sc['dx']=='bkl']\n",
    "bkll = bkll.image_id\n",
    "bkl = bkll.values.tolist()\n",
    "print(len(bkll))\n",
    "\n",
    "nvv = sc[sc['dx']=='nv']\n",
    "nvv = nvv.image_id\n",
    "nv = nvv.values.tolist()\n",
    "print(len(nv))\n",
    "\n",
    "mell = sc[sc['dx']=='mel']\n",
    "mell = mell.image_id\n",
    "mel = mell.values.tolist()\n",
    "print(len(mel))\n",
    "\n",
    "bccc = sc[sc['dx']=='bcc']\n",
    "bccc = bccc.image_id\n",
    "bcc = bccc.values.tolist()\n",
    "print(len(bcc))\n",
    "\n",
    "akiecc = sc[sc['dx']=='akiec']\n",
    "akiecc = akiecc.image_id\n",
    "akiec = akiecc.values.tolist()\n",
    "print(len(akiec))\n",
    "\n",
    "vascc = sc[sc['dx']=='vasc']\n",
    "vascc = vascc.image_id\n",
    "vasc = vascc.values.tolist()\n",
    "print(len(vasc))\n",
    "\n",
    "dff = sc[sc['dx']=='df']\n",
    "dff = dff.image_id\n",
    "df = dff.values.tolist()\n",
    "print(len(df))"
   ]
  },
  {
   "cell_type": "code",
   "execution_count": 46,
   "metadata": {},
   "outputs": [],
   "source": [
    "source_folder = r'C:\\Users\\hp\\Desktop\\Skin Cancer\\input'+'\\\\'\n",
    "\n",
    "for path, dir, files in os.walk(source_folder):\n",
    "    if files:\n",
    "        for file in files:\n",
    "            a = str(file)\n",
    "            b = a.replace('.jpg', '')\n",
    "            if b in bkl:\n",
    "                target_folder = r'C:\\Users\\hp\\Desktop\\Skin Cancer\\bkl'+'\\\\'\n",
    "                os.rename(path + '\\\\' + file, target_folder + file)\n",
    "\n",
    "            if b in nv:\n",
    "                target_folder = r'C:\\Users\\hp\\Desktop\\Skin Cancer\\nv'+'\\\\'\n",
    "                os.rename(path + '\\\\' + file, target_folder + file)\n",
    "\n",
    "            if b in mel:\n",
    "                target_folder = r'C:\\Users\\hp\\Desktop\\Skin Cancer\\mel'+'\\\\'\n",
    "                os.rename(path + '\\\\' + file, target_folder + file)\n",
    "    \n",
    "            if b in bcc:\n",
    "                target_folder = r'C:\\Users\\hp\\Desktop\\Skin Cancer\\bcc'+'\\\\'\n",
    "                os.rename(path + '\\\\' + file, target_folder + file)\n",
    "\n",
    "            if b in akiec:\n",
    "                target_folder = r'C:\\Users\\hp\\Desktop\\Skin Cancer\\akiec'+'\\\\'\n",
    "                os.rename(path + '\\\\' + file, target_folder + file)\n",
    "\n",
    "            if b in vasc:\n",
    "                target_folder = r'C:\\Users\\hp\\Desktop\\Skin Cancer\\vasc'+'\\\\'\n",
    "                os.rename(path + '\\\\' + file, target_folder + file)\n",
    "    \n",
    "            if b in df:\n",
    "                target_folder = r'C:\\Users\\hp\\Desktop\\Skin Cancer\\df'+'\\\\'\n",
    "                os.rename(path + '\\\\' + file, target_folder + file)\n"
   ]
  }
 ],
 "metadata": {
  "kernelspec": {
   "display_name": "Python 3",
   "language": "python",
   "name": "python3"
  },
  "language_info": {
   "codemirror_mode": {
    "name": "ipython",
    "version": 3
   },
   "file_extension": ".py",
   "mimetype": "text/x-python",
   "name": "python",
   "nbconvert_exporter": "python",
   "pygments_lexer": "ipython3",
   "version": "3.7.6"
  }
 },
 "nbformat": 4,
 "nbformat_minor": 4
}
