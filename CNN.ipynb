{
 "cells": [
  {
   "cell_type": "markdown",
   "metadata": {},
   "source": [
    "### Model Architecture"
   ]
  },
  {
   "cell_type": "markdown",
   "metadata": {},
   "source": [
    "![](cover.png)"
   ]
  },
  {
   "cell_type": "markdown",
   "metadata": {},
   "source": [
    "### Importing essential libraries and Model building(CNN)"
   ]
  },
  {
   "cell_type": "markdown",
   "metadata": {},
   "source": [
    "Here we use Keras which is a high-level neural network library, which runs on top of TensorFlow. Using Keras allows for easy and fast prototyping.\n",
    "We are building a sequential model which is a linear stack of layers. We also use different types of layers such as Dense, Conv2D, Flatten etc. at different points in the model.\n",
    "The pickle library is used here for loading and reading data from respective pickle files.\n",
    "We'll use matplotlib to generate graphs for better visualization of model performance."
   ]
  },
  {
   "cell_type": "code",
   "execution_count": 1,
   "metadata": {},
   "outputs": [
    {
     "name": "stdout",
     "output_type": "stream",
     "text": [
      "Model: \"sequential\"\n",
      "_________________________________________________________________\n",
      "Layer (type)                 Output Shape              Param #   \n",
      "=================================================================\n",
      "conv2d (Conv2D)              (None, 100, 100, 50)      500       \n",
      "_________________________________________________________________\n",
      "conv2d_1 (Conv2D)            (None, 98, 98, 40)        18040     \n",
      "_________________________________________________________________\n",
      "max_pooling2d (MaxPooling2D) (None, 49, 49, 40)        0         \n",
      "_________________________________________________________________\n",
      "dropout (Dropout)            (None, 49, 49, 40)        0         \n",
      "_________________________________________________________________\n",
      "conv2d_2 (Conv2D)            (None, 49, 49, 50)        18050     \n",
      "_________________________________________________________________\n",
      "max_pooling2d_1 (MaxPooling2 (None, 24, 24, 50)        0         \n",
      "_________________________________________________________________\n",
      "dropout_1 (Dropout)          (None, 24, 24, 50)        0         \n",
      "_________________________________________________________________\n",
      "flatten (Flatten)            (None, 28800)             0         \n",
      "_________________________________________________________________\n",
      "dense (Dense)                (None, 128)               3686528   \n",
      "_________________________________________________________________\n",
      "dropout_2 (Dropout)          (None, 128)               0         \n",
      "_________________________________________________________________\n",
      "dense_1 (Dense)              (None, 7)                 903       \n",
      "=================================================================\n",
      "Total params: 3,724,021\n",
      "Trainable params: 3,724,021\n",
      "Non-trainable params: 0\n",
      "_________________________________________________________________\n",
      "Train on 8512 samples, validate on 1503 samples\n",
      "Epoch 1/35\n",
      "8512/8512 [==============================] - 344s 40ms/sample - loss: 1.1921 - accuracy: 0.6638 - val_loss: 1.1228 - val_accuracy: 0.6793\n",
      "Epoch 2/35\n",
      "8512/8512 [==============================] - 348s 41ms/sample - loss: 1.0603 - accuracy: 0.6664 - val_loss: 1.0483 - val_accuracy: 0.6793\n",
      "Epoch 3/35\n",
      "8505/8512 [============================>.] - ETA: 0s - loss: 1.0231 - accuracy: 0.6681\n",
      "Epoch 00003: ReduceLROnPlateau reducing learning rate to 0.0004000000189989805.\n",
      "8512/8512 [==============================] - 356s 42ms/sample - loss: 1.0226 - accuracy: 0.6684 - val_loss: 1.0065 - val_accuracy: 0.6793\n",
      "Epoch 4/35\n",
      "8512/8512 [==============================] - 360s 42ms/sample - loss: 0.9796 - accuracy: 0.6691 - val_loss: 0.9473 - val_accuracy: 0.6813\n",
      "Epoch 5/35\n",
      "8512/8512 [==============================] - 355s 42ms/sample - loss: 0.9450 - accuracy: 0.6750 - val_loss: 0.9090 - val_accuracy: 0.6866\n",
      "Epoch 6/35\n",
      "8512/8512 [==============================] - 359s 42ms/sample - loss: 0.9218 - accuracy: 0.6824 - val_loss: 0.9053 - val_accuracy: 0.7059\n",
      "Epoch 7/35\n",
      "8512/8512 [==============================] - 362s 42ms/sample - loss: 0.8885 - accuracy: 0.6913 - val_loss: 0.8806 - val_accuracy: 0.7092\n",
      "Epoch 8/35\n",
      "8512/8512 [==============================] - 365s 43ms/sample - loss: 0.8841 - accuracy: 0.6940 - val_loss: 0.8946 - val_accuracy: 0.7053\n",
      "Epoch 9/35\n",
      "8512/8512 [==============================] - 365s 43ms/sample - loss: 0.8518 - accuracy: 0.7052 - val_loss: 0.8547 - val_accuracy: 0.7139\n",
      "Epoch 10/35\n",
      "8512/8512 [==============================] - 367s 43ms/sample - loss: 0.8291 - accuracy: 0.7115 - val_loss: 0.8721 - val_accuracy: 0.7099\n",
      "Epoch 11/35\n",
      "8505/8512 [============================>.] - ETA: 0s - loss: 0.8099 - accuracy: 0.7163\n",
      "Epoch 00011: ReduceLROnPlateau reducing learning rate to 0.00016000000759959222.\n",
      "8512/8512 [==============================] - 366s 43ms/sample - loss: 0.8094 - accuracy: 0.7165 - val_loss: 0.8550 - val_accuracy: 0.7132\n",
      "Epoch 12/35\n",
      "8512/8512 [==============================] - 368s 43ms/sample - loss: 0.7747 - accuracy: 0.7258 - val_loss: 0.8529 - val_accuracy: 0.7112\n",
      "Epoch 13/35\n",
      "8505/8512 [============================>.] - ETA: 0s - loss: 0.7554 - accuracy: 0.7287\n",
      "Epoch 00013: ReduceLROnPlateau reducing learning rate to 6.40000042039901e-05.\n",
      "8512/8512 [==============================] - 370s 43ms/sample - loss: 0.7558 - accuracy: 0.7286 - val_loss: 0.8466 - val_accuracy: 0.7139\n",
      "Epoch 14/35\n",
      "8512/8512 [==============================] - 368s 43ms/sample - loss: 0.7342 - accuracy: 0.7432 - val_loss: 0.8496 - val_accuracy: 0.7179\n",
      "Epoch 15/35\n",
      "8512/8512 [==============================] - 367s 43ms/sample - loss: 0.7246 - accuracy: 0.7418 - val_loss: 0.8463 - val_accuracy: 0.7166\n",
      "Epoch 16/35\n",
      "8505/8512 [============================>.] - ETA: 0s - loss: 0.7188 - accuracy: 0.7426\n",
      "Epoch 00016: ReduceLROnPlateau reducing learning rate to 2.560000284574926e-05.\n",
      "8512/8512 [==============================] - 369s 43ms/sample - loss: 0.7184 - accuracy: 0.7427 - val_loss: 0.8500 - val_accuracy: 0.7159\n",
      "Epoch 17/35\n",
      "8512/8512 [==============================] - 367s 43ms/sample - loss: 0.7118 - accuracy: 0.7491 - val_loss: 0.8450 - val_accuracy: 0.7159\n",
      "Epoch 18/35\n",
      "8505/8512 [============================>.] - ETA: 0s - loss: 0.7094 - accuracy: 0.7540\n",
      "Epoch 00018: ReduceLROnPlateau reducing learning rate to 1.0240000847261399e-05.\n",
      "8512/8512 [==============================] - 368s 43ms/sample - loss: 0.7099 - accuracy: 0.7540 - val_loss: 0.8530 - val_accuracy: 0.7179\n",
      "Epoch 19/35\n",
      "8512/8512 [==============================] - 370s 43ms/sample - loss: 0.7125 - accuracy: 0.7484 - val_loss: 0.8536 - val_accuracy: 0.7152\n",
      "Epoch 20/35\n",
      "8505/8512 [============================>.] - ETA: 0s - loss: 0.7037 - accuracy: 0.7506\n",
      "Epoch 00020: ReduceLROnPlateau reducing learning rate to 1e-05.\n",
      "8512/8512 [==============================] - 368s 43ms/sample - loss: 0.7036 - accuracy: 0.7506 - val_loss: 0.8502 - val_accuracy: 0.7166\n",
      "Epoch 21/35\n",
      "8512/8512 [==============================] - 366s 43ms/sample - loss: 0.7062 - accuracy: 0.7491 - val_loss: 0.8511 - val_accuracy: 0.7172\n",
      "Epoch 22/35\n",
      "8512/8512 [==============================] - 365s 43ms/sample - loss: 0.6998 - accuracy: 0.7506 - val_loss: 0.8498 - val_accuracy: 0.7179\n",
      "Epoch 23/35\n",
      "8512/8512 [==============================] - 366s 43ms/sample - loss: 0.6984 - accuracy: 0.7508 - val_loss: 0.8519 - val_accuracy: 0.7179\n",
      "Epoch 24/35\n",
      "8512/8512 [==============================] - 366s 43ms/sample - loss: 0.6995 - accuracy: 0.7513 - val_loss: 0.8494 - val_accuracy: 0.7159\n",
      "Epoch 25/35\n",
      "8512/8512 [==============================] - 365s 43ms/sample - loss: 0.6956 - accuracy: 0.7509 - val_loss: 0.8490 - val_accuracy: 0.7159\n",
      "Epoch 26/35\n",
      "8512/8512 [==============================] - 366s 43ms/sample - loss: 0.6969 - accuracy: 0.7504 - val_loss: 0.8503 - val_accuracy: 0.7172\n",
      "Epoch 27/35\n",
      "8512/8512 [==============================] - 367s 43ms/sample - loss: 0.7073 - accuracy: 0.7468 - val_loss: 0.8499 - val_accuracy: 0.7172\n",
      "Epoch 28/35\n",
      "8512/8512 [==============================] - 364s 43ms/sample - loss: 0.6968 - accuracy: 0.7552 - val_loss: 0.8540 - val_accuracy: 0.7179\n",
      "Epoch 29/35\n",
      "8512/8512 [==============================] - 366s 43ms/sample - loss: 0.6953 - accuracy: 0.7505 - val_loss: 0.8510 - val_accuracy: 0.7172\n",
      "Epoch 30/35\n",
      "8512/8512 [==============================] - 364s 43ms/sample - loss: 0.6990 - accuracy: 0.7515 - val_loss: 0.8515 - val_accuracy: 0.7159\n",
      "Epoch 31/35\n",
      "8512/8512 [==============================] - 364s 43ms/sample - loss: 0.7019 - accuracy: 0.7494 - val_loss: 0.8494 - val_accuracy: 0.7146\n",
      "Epoch 32/35\n",
      "8512/8512 [==============================] - 365s 43ms/sample - loss: 0.7018 - accuracy: 0.7477 - val_loss: 0.8541 - val_accuracy: 0.7186\n",
      "Epoch 33/35\n",
      "8512/8512 [==============================] - 365s 43ms/sample - loss: 0.6912 - accuracy: 0.7525 - val_loss: 0.8500 - val_accuracy: 0.7192\n",
      "Epoch 34/35\n",
      "8512/8512 [==============================] - 368s 43ms/sample - loss: 0.6826 - accuracy: 0.7576 - val_loss: 0.8516 - val_accuracy: 0.7172\n",
      "Epoch 35/35\n",
      "8512/8512 [==============================] - 371s 44ms/sample - loss: 0.6904 - accuracy: 0.7541 - val_loss: 0.8530 - val_accuracy: 0.7152\n"
     ]
    }
   ],
   "source": [
    "#Following are the essential libraries for the required CNN model\n",
    "import tensorflow as tf\n",
    "from tensorflow.keras.models import Sequential\n",
    "from tensorflow.keras.layers import Dense, Dropout, Flatten, Conv2D, MaxPool2D\n",
    "from tensorflow.keras.callbacks import ModelCheckpoint, EarlyStopping, ReduceLROnPlateau\n",
    "from tensorflow.keras.utils import to_categorical\n",
    "import pickle\n",
    "import matplotlib.pyplot as plt\n",
    "\n",
    "\n",
    "#Loading and reading previously made pickle data\n",
    "X = pickle.load(open(\"X.pickle\", \"rb\"))\n",
    "y = pickle.load(open(\"y.pickle\", \"rb\"))\n",
    "\n",
    "\n",
    "#Normalizing X(image_input)\n",
    "X = X/255.0\n",
    "y = to_categorical(y)\n",
    "\n",
    "\n",
    "# Code for required model\n",
    "model = Sequential()    # Since it's a sequential model \n",
    "\n",
    "\n",
    "# Adding two Conv2D layers with different number of units(nodes/neurons), kernel_size of 3 and activation_function 'relu'\n",
    "# Padding set to 'same' so that the outcome remains the same as kernel_size/window\n",
    "# Followed by a MaxPooling layer of size 2\n",
    "# And a Dropout layer, that drops out 25% of neurons\n",
    "# Conv2D --> Conv2D --> MaxPool --> Dropout\n",
    "model.add(Conv2D(50, kernel_size = 3, activation = 'relu', padding = 'same', input_shape = X.shape[1:]))\n",
    "model.add(Conv2D(40, kernel_size = 3, activation = 'relu'))\n",
    "model.add(MaxPool2D(2))\n",
    "model.add(Dropout(0.25))\n",
    "\n",
    "\n",
    "# Adding one more Conv2D layers with same kernel size, padding and activation function\n",
    "# Followed by a MaxPool of size 2 and a Dropout of 40% neurons\n",
    "model.add(Conv2D(50, kernel_size = 3, activation = 'relu', padding = 'same'))\n",
    "model.add(MaxPool2D(2))\n",
    "model.add(Dropout(0.40))\n",
    "\n",
    "\n",
    "# Flattening the data for input of dense layer \n",
    "model.add(Flatten())\n",
    "\n",
    "\n",
    "# Adding dense layer with 128 units and activation function 'relu'\n",
    "# Followed by a dropout\n",
    "# Followed by a Dense layer which is our output layer. The layer has the same number of units as the total number of classes\n",
    "# Activation used here is 'softmax' that ensures that predictions sum up to 1, in order to be interpretted as probabilities\n",
    "model.add(Dense(128, activation = 'relu'))\n",
    "model.add(Dropout(0.50))\n",
    "model.add(Dense(7, activation = 'softmax'))\n",
    "model.summary()\n",
    "\n",
    "\n",
    "# Compiling the model\n",
    "# Optimizer used --> 'adam'\n",
    "# Loss function used --> 'categorical_crossentropy', used for multi-class classification\n",
    "model.compile(optimizer = 'adam', loss = 'categorical_crossentropy', metrics = ['accuracy'])\n",
    "\n",
    "\n",
    "# Learning rate reduction using ReduceLROnPlteau(keras callback) to be used when val_accuracy reaches a plateau\n",
    "learning_rate_reduction = ReduceLROnPlateau(monitor='val_accuracy', \n",
    "                                            patience=2, \n",
    "                                            verbose=1, \n",
    "                                            factor=0.4, \n",
    "                                            min_lr=0.00001)\n",
    "\n",
    "\n",
    "# Setting a checkpoint using ModelCheckpoint(keras callback) to be used to save weights for when val_accuracy is at its best \n",
    "checkpoint = ModelCheckpoint('weights2.hdf5', monitor = 'val_accuracy', save_best_only = True)\n",
    "\n",
    "\n",
    "# Fitting the model\n",
    "# batch_size --> 35, epochs --> 35, validation split of 15%\n",
    "# callbacks --> learning rate reduction & checkpoint \n",
    "training = model.fit(X, y, batch_size = 35, epochs = 35, validation_split = 0.15, callbacks = [learning_rate_reduction, \n",
    "                                                                                               checkpoint])\n"
   ]
  },
  {
   "cell_type": "markdown",
   "metadata": {},
   "source": [
    "### Saving the model"
   ]
  },
  {
   "cell_type": "code",
   "execution_count": 8,
   "metadata": {},
   "outputs": [],
   "source": [
    "from tensorflow.keras.models import load_model\n",
    "model.save('model_file.h5')"
   ]
  },
  {
   "cell_type": "markdown",
   "metadata": {},
   "source": [
    "### Loss and Validation_loss graph"
   ]
  },
  {
   "cell_type": "code",
   "execution_count": 5,
   "metadata": {},
   "outputs": [
    {
     "data": {
      "image/png": "[encoded data removed]",
      "text/plain": [
       "<Figure size 432x288 with 1 Axes>"
      ]
     },
     "metadata": {
      "needs_background": "light"
     },
     "output_type": "display_data"
    }
   ],
   "source": [
    "plt.plot(training.history['loss'])\n",
    "plt.plot(training.history['val_loss'])\n",
    "plt.xlabel('Epochs')\n",
    "plt.ylabel('Val_loss')\n",
    "plt.show()"
   ]
  },
  {
   "cell_type": "markdown",
   "metadata": {},
   "source": [
    "### Accuracy and Validation_accuracy graph"
   ]
  },
  {
   "cell_type": "code",
   "execution_count": 6,
   "metadata": {},
   "outputs": [
    {
     "data": {
      "image/png": "[encoded data removed]",
      "text/plain": [
       "<Figure size 432x288 with 1 Axes>"
      ]
     },
     "metadata": {
      "needs_background": "light"
     },
     "output_type": "display_data"
    }
   ],
   "source": [
    "plt.plot(training.history['accuracy'])\n",
    "plt.plot(training.history['val_accuracy'])\n",
    "plt.xlabel('Epochs')\n",
    "plt.ylabel('Val_accuracy')\n",
    "plt.show()"
   ]
  },
  {
   "cell_type": "markdown",
   "metadata": {},
   "source": [
    "### Conclusion"
   ]
  },
  {
   "cell_type": "markdown",
   "metadata": {},
   "source": [
    "As we can see from the respective accuracy and loss graphs that the model experiences slight overfitting after the 10th epoch. We have managed to keep the overfitting significantly low by reducing learning rate by 40% at every plateau.\n",
    "\n",
    "Our current data set has approximately 10,000 images, which is quite low given that there are seven different classes. It lacks images in a few classes.\n",
    "With a bigger dataset we can avoid overfitting to a greater extent and achieve an even better accuracy. \n",
    "\n",
    "We have managed to achieve a validation accuracy of 71.92%"
   ]
  }
 ],
 "metadata": {
  "kernelspec": {
   "display_name": "Python 3",
   "language": "python",
   "name": "python3"
  },
  "language_info": {
   "codemirror_mode": {
    "name": "ipython",
    "version": 3
   },
   "file_extension": ".py",
   "mimetype": "text/x-python",
   "name": "python",
   "nbconvert_exporter": "python",
   "pygments_lexer": "ipython3",
   "version": "3.7.7"
  }
 },
 "nbformat": 4,
 "nbformat_minor": 4
}
